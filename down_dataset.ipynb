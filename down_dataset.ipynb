{
 "cells": [
  {
   "cell_type": "code",
   "execution_count": 1,
   "id": "70327cda-2a30-4fee-8f7c-6afcc70b9651",
   "metadata": {},
   "outputs": [
    {
     "name": "stdout",
     "output_type": "stream",
     "text": [
      "/home/qkrwnstj/anaconda3/envs/pytorch/dataset\n"
     ]
    }
   ],
   "source": [
    "%cd ~/anaconda3/envs/pytorch/dataset"
   ]
  },
  {
   "cell_type": "code",
   "execution_count": 2,
   "id": "0fcb9f40-db02-4efe-bbe1-33fd31992c82",
   "metadata": {},
   "outputs": [
    {
     "name": "stdout",
     "output_type": "stream",
     "text": [
      "/home/qkrwnstj/anaconda3/envs/pytorch/dataset\r\n"
     ]
    }
   ],
   "source": [
    "!pwd"
   ]
  },
  {
   "cell_type": "code",
   "execution_count": 3,
   "id": "85443660-21a6-47b3-9f3d-d2afa382bcb6",
   "metadata": {},
   "outputs": [],
   "source": [
    "import pandas as pd\n",
    "\n",
    "csv_file = pd.read_csv('./wikiart_scraped.csv')"
   ]
  },
  {
   "cell_type": "code",
   "execution_count": 4,
   "id": "8c4ca4a2-0e2c-4915-8e9c-4cc1826d31db",
   "metadata": {},
   "outputs": [
    {
     "data": {
      "text/html": [
       "<div>\n",
       "<style scoped>\n",
       "    .dataframe tbody tr th:only-of-type {\n",
       "        vertical-align: middle;\n",
       "    }\n",
       "\n",
       "    .dataframe tbody tr th {\n",
       "        vertical-align: top;\n",
       "    }\n",
       "\n",
       "    .dataframe thead th {\n",
       "        text-align: right;\n",
       "    }\n",
       "</style>\n",
       "<table border=\"1\" class=\"dataframe\">\n",
       "  <thead>\n",
       "    <tr style=\"text-align: right;\">\n",
       "      <th></th>\n",
       "      <th>Style</th>\n",
       "      <th>Artwork</th>\n",
       "      <th>Artist</th>\n",
       "      <th>Date</th>\n",
       "      <th>Link</th>\n",
       "    </tr>\n",
       "  </thead>\n",
       "  <tbody>\n",
       "    <tr>\n",
       "      <th>0</th>\n",
       "      <td>Early-Dynastic</td>\n",
       "      <td>Narmer Palette</td>\n",
       "      <td>Ancient Egypt</td>\n",
       "      <td>3050 BC</td>\n",
       "      <td>https://uploads3.wikiart.org/00265/images/anci...</td>\n",
       "    </tr>\n",
       "    <tr>\n",
       "      <th>1</th>\n",
       "      <td>Early-Dynastic</td>\n",
       "      <td>Box Inlay with a Geometric Pattern</td>\n",
       "      <td>Ancient Egypt</td>\n",
       "      <td>3100-2900 BC</td>\n",
       "      <td>https://uploads2.wikiart.org/00244/images/anci...</td>\n",
       "    </tr>\n",
       "    <tr>\n",
       "      <th>2</th>\n",
       "      <td>Old-Kingdom</td>\n",
       "      <td>Khafre Enthroned</td>\n",
       "      <td>Ancient Egypt</td>\n",
       "      <td>2570 BC</td>\n",
       "      <td>https://uploads2.wikiart.org/00305/images/anci...</td>\n",
       "    </tr>\n",
       "    <tr>\n",
       "      <th>3</th>\n",
       "      <td>Middle-Kingdom</td>\n",
       "      <td>Stele of the Serpent King (Stela of Djet)</td>\n",
       "      <td>Ancient Egypt</td>\n",
       "      <td>3000 BC</td>\n",
       "      <td>https://uploads7.wikiart.org/00305/images/anci...</td>\n",
       "    </tr>\n",
       "    <tr>\n",
       "      <th>4</th>\n",
       "      <td>Middle-Kingdom</td>\n",
       "      <td>Laden Donkeys and Ploughing, Tomb of Djar</td>\n",
       "      <td>Ancient Egypt</td>\n",
       "      <td>2060-2010 BC</td>\n",
       "      <td>https://uploads8.wikiart.org/00244/images/anci...</td>\n",
       "    </tr>\n",
       "  </tbody>\n",
       "</table>\n",
       "</div>"
      ],
      "text/plain": [
       "            Style                                    Artwork         Artist  \\\n",
       "0  Early-Dynastic                             Narmer Palette  Ancient Egypt   \n",
       "1  Early-Dynastic         Box Inlay with a Geometric Pattern  Ancient Egypt   \n",
       "2     Old-Kingdom                           Khafre Enthroned  Ancient Egypt   \n",
       "3  Middle-Kingdom  Stele of the Serpent King (Stela of Djet)  Ancient Egypt   \n",
       "4  Middle-Kingdom  Laden Donkeys and Ploughing, Tomb of Djar  Ancient Egypt   \n",
       "\n",
       "           Date                                               Link  \n",
       "0       3050 BC  https://uploads3.wikiart.org/00265/images/anci...  \n",
       "1  3100-2900 BC  https://uploads2.wikiart.org/00244/images/anci...  \n",
       "2       2570 BC  https://uploads2.wikiart.org/00305/images/anci...  \n",
       "3       3000 BC  https://uploads7.wikiart.org/00305/images/anci...  \n",
       "4  2060-2010 BC  https://uploads8.wikiart.org/00244/images/anci...  "
      ]
     },
     "execution_count": 4,
     "metadata": {},
     "output_type": "execute_result"
    }
   ],
   "source": [
    "csv_file.head()"
   ]
  },
  {
   "cell_type": "code",
   "execution_count": 5,
   "id": "ce6b631d-a8e7-4556-9b12-ad17bcf1a9e0",
   "metadata": {},
   "outputs": [
    {
     "data": {
      "text/plain": [
       "array(['Early-Dynastic', 'Old-Kingdom', 'Middle-Kingdom', 'New-Kingdom',\n",
       "       'Amarna', 'rd-Intermediate-Period', 'Late-Period', 'Ptolemaic',\n",
       "       'nd-Intermediate-Period', 'Archaic', 'Classical', 'Hellenistic',\n",
       "       'Geometric', 'Early-Christian', 'Early-Byzantine-(c.-–)',\n",
       "       'Middle-Byzantine-(c.-–)', 'Mozarabic', 'Komnenian-style-(-)',\n",
       "       'Latin-Empire-of-Constantinople-(-)',\n",
       "       'Late-Byzantine/Palaeologan-Renaissance-(c.-–)', 'Byzantine',\n",
       "       'Macedonian-Renaissance-(–)', 'Romanesque', 'Mosan-art', 'Gothic',\n",
       "       'International-Gothic', 'Viking-art', 'Medieval-Art',\n",
       "       'Crusader-workshop', 'Moscow-school-of-icon-painting',\n",
       "       'Cretan-school-of-icon-painting',\n",
       "       'Macedonian-school-of-icon-painting', 'Coptic-art',\n",
       "       'Novgorod-school-of-icon-painting', 'Kyiv-school-of-icon-painting',\n",
       "       'Vladimir-school-of-icon-painting', 'Galicia-Volyn-school',\n",
       "       'Pskov-school-of-icon-painting',\n",
       "       'Yaroslavl-school-of-icon-painting',\n",
       "       'Vologda-school-of-icon-painting',\n",
       "       'Chernihiv-school-of-icon-painting', 'Proto-Renaissance',\n",
       "       'Early-Renaissance', 'High-Renaissance',\n",
       "       'Mannerism-(Late-Renaissance)', 'Northern-Renaissance',\n",
       "       'Renaissance', 'Baroque', 'Tenebrism', 'Rococo', 'Classicism',\n",
       "       'Neoclassicism', 'Academicism', 'Romanticism', 'Orientalism',\n",
       "       'Costumbrismo', 'Biedermeier', 'Neo-Rococo', 'Luminism', 'Realism',\n",
       "       'Stroganov-school-of-icon-painting', 'American-Realism',\n",
       "       'Naturalism', 'Naïve-Art-(Primitivism)', 'Social-Realism',\n",
       "       'Automatic-Painting', 'Action-painting', 'Surrealism',\n",
       "       'Post-Impressionism', 'Symbolism', 'Metaphysical-art', 'Tonalism',\n",
       "       'Impressionism', 'Magic-Realism', 'Fantastic-Realism',\n",
       "       'Pointillism', 'Divisionism', 'Abstract-Art', 'Neo-baroque',\n",
       "       'Japonism', 'Purism', 'Verism', 'Art-Deco', 'Precisionism',\n",
       "       'Cloisonnism', 'Regionalism', 'Socialist-Realism', 'Synthetism',\n",
       "       'Intimism', 'New-Medievialism', 'Fauvism', 'Muralism',\n",
       "       'Art-Nouveau-(Modern)', 'Cartographic-Art', 'Existential-Art',\n",
       "       'Pictorialism', 'Expressionism', 'Lettrism', 'Kitsch',\n",
       "       'Mechanistic-Cubism', 'Miserablism', 'Neo-Romanticism',\n",
       "       'Abstract-Expressionism', 'Cubism', 'Analytical-Cubism',\n",
       "       'Color-Field-Painting', 'Hard-Edge-Painting', 'Synthetic-Cubism',\n",
       "       'Lyrical-Abstraction', 'Orphism', 'Indian-Space-painting',\n",
       "       'Tubism', 'Cubo-Expressionism', 'Figurative-Expressionism',\n",
       "       'Art-Informel', 'Futurism', 'Cubo-Futurism', 'Tachisme',\n",
       "       'Neo-Concretism', 'Rayonism', 'Synchromism', 'Performance-Art',\n",
       "       'Dada', 'Transautomatism', 'Suprematism', 'Sots-Art',\n",
       "       'Neo-Byzantine', 'Post-Painterly-Abstraction', 'Constructivism',\n",
       "       'Severe-Style', 'Feminist-Art', 'Spectralism', 'Fiber-art',\n",
       "       'Modernismo', 'Mail-Art', 'Neo-Suprematism',\n",
       "       'Analytical\\xa0Realism', 'Outsider-art', 'Art-Brut',\n",
       "       'Neoplasticism', 'Concretism', 'Neo-Expressionism', 'Neo-Dada',\n",
       "       'Perceptism', 'Neo-Figurative-Art', 'New-Realism', 'Kinetic-Art',\n",
       "       'Spatialism', 'Op-Art', 'Pop-Art', 'Nouveau-Réalisme',\n",
       "       'Neo-Impressionism', 'Conceptual-Art', 'Minimalism',\n",
       "       'Post-Minimalism', 'Light-and-Space', 'Environmental-(Land)-Art',\n",
       "       'Junk-Art', 'Cyber-Art', 'Photorealism', 'Hyper-Realism',\n",
       "       'Poster-Art-Realism', 'Contemporary-Realism',\n",
       "       'P&D-(Pattern-and-Decoration)', 'Transavantgarde',\n",
       "       'Confessional-Art', 'New-European-Painting', 'Neo-Pop-Art',\n",
       "       'Neo-Geo', 'Maximalism', 'Neo-Orthodoxism', 'Graffiti-Art',\n",
       "       'Street-art', 'Lowbrow-Art', 'Stuckism', 'New-Casualism',\n",
       "       'Art-Singulier', 'Superflat', 'Excessivism', 'Digital-Art',\n",
       "       'Hyper-Mannerism-(Anachronism)', 'Neo-Minimalism', 'Fantasy-Art',\n",
       "       'Sky-Art', 'Contemporary', 'Site-specific-art', 'New-media-art',\n",
       "       'Classical-Realism', 'Postcolonial-art', 'Queer-art', 'Gongbi',\n",
       "       'Ink-and-wash-painting', 'Joseon-Dynasty', 'Shin-hanga',\n",
       "       'Sōsaku-hanga', 'Sumi-e-(Suiboku-ga)', 'Ukiyo-e', 'Yamato-e',\n",
       "       'Kanō-school-style', 'Nanga-(Bunjinga)', 'Nihonga', 'Zen',\n",
       "       'Ero-guro', 'Abbasid-Period', 'Ilkhanid', 'Nas-Taliq',\n",
       "       'Timurid-Period', 'Mughal', 'Ottoman-Period', 'Safavid-Period',\n",
       "       'Native-Art', 'Yoruba', 'Folk-art', 'Post-classic-(c.-)',\n",
       "       'New-Ink-Painting', 'Documentary-photography',\n",
       "       'Street-Photography'], dtype=object)"
      ]
     },
     "execution_count": 5,
     "metadata": {},
     "output_type": "execute_result"
    }
   ],
   "source": [
    "csv_file['Style'].unique()"
   ]
  },
  {
   "cell_type": "code",
   "execution_count": 7,
   "id": "792f8c09-cd9d-45b1-a56b-8a1c006aaf3c",
   "metadata": {},
   "outputs": [
    {
     "name": "stdout",
     "output_type": "stream",
     "text": [
      "{'Romanticism': 3600, 'Impressionism': 3600, 'Baroque': 3600, 'Neoclassicism': 3600, 'Realism': 3600, 'Surrealism': 3600, 'Post-Impressionism': 3600, 'Symbolism': 3600, 'Naïve-Art-(Primitivism)': 3600, 'Art-Nouveau-(Modern)': 3600, 'Expressionism': 3600, 'Abstract-Expressionism': 3600, 'Rococo': 3541, 'Cubism': 3403, 'Northern-Renaissance': 3239, 'Academicism': 2769, 'Pop-Art': 2708, 'Mannerism-(Late-Renaissance)': 2429, 'Minimalism': 2242, 'Conceptual-Art': 2111, 'Abstract-Art': 1980, 'Neo-Expressionism': 1924, 'Art-Informel': 1888, 'Early-Renaissance': 1876, 'Ukiyo-e': 1857, 'Magic-Realism': 1758, 'Contemporary-Realism': 1755, 'High-Renaissance': 1737, 'Color-Field-Painting': 1629, 'Orientalism': 1467, 'Op-Art': 1219, 'Lyrical-Abstraction': 1208, 'Fauvism': 1176, 'Neo-Impressionism': 1165, 'Art-Deco': 1122, 'Social-Realism': 925, 'Kitsch': 888, 'Naturalism': 880, 'Ink-and-wash-painting': 835, 'Neo-Romanticism': 828, 'Concretism': 797, 'Contemporary': 797, 'Post-Minimalism': 747, 'Socialist-Realism': 708, 'Neo-Pop-Art': 705, 'Hard-Edge-Painting': 639, 'Transavantgarde': 601, 'Constructivism': 598, 'Pointillism': 591, 'Regionalism': 581, 'Tachisme': 576, 'Tenebrism': 552, 'Feminist-Art': 532, 'Pictorialism': 526, 'Street-art': 502, 'Dada': 488, 'Outsider-art': 484, 'Sōsaku-hanga': 480, 'New-Realism': 456, 'Proto-Renaissance': 444, 'Light-and-Space': 435, 'Biedermeier': 430, 'Shin-hanga': 423, 'Divisionism': 421, 'Art-Brut': 418, 'New-European-Painting': 413, 'Fantastic-Realism': 412, 'Futurism': 412, 'Photorealism': 410, 'Luminism': 400, 'Tonalism': 386, 'Post-Painterly-Abstraction': 382, 'American-Realism': 374, 'Figurative-Expressionism': 364, 'Precisionism': 362, 'Romanesque': 348, 'Neo-Figurative-Art': 346, 'International-Gothic': 329, 'Nouveau-Réalisme': 323, 'Postcolonial-art': 323, 'Hyper-Realism': 309, 'Neo-Minimalism': 309, 'Kinetic-Art': 300, 'Orphism': 292, 'Classicism': 276, 'Metaphysical-art': 265, 'Native-Art': 257, 'Byzantine': 256, 'Neo-baroque': 256, 'Synthetic-Cubism': 245, 'Muralism': 226, 'Classical-Realism': 225, 'Japonism': 211, 'Digital-Art': 194, 'Cloisonnism': 185, 'Environmental-(Land)-Art': 184, 'Neoplasticism': 183, 'Cubo-Futurism': 182, 'Modernismo': 176, 'Purism': 174, 'Spatialism': 169, 'Zen': 166, 'Middle-Byzantine-(c.-–)': 159, 'Documentary-photography': 158, 'P&D-(Pattern-and-Decoration)': 154, 'Neo-Geo': 139, 'Street-Photography': 138, 'Late-Byzantine/Palaeologan-Renaissance-(c.-–)': 137, 'Hellenistic': 135, 'Suprematism': 135, 'Safavid-Period': 130, 'Sumi-e-(Suiboku-ga)': 125, 'Fantasy-Art': 121, 'Costumbrismo': 120, 'Confessional-Art': 119, 'Analytical-Cubism': 119, 'New-Kingdom': 114, 'Intimism': 112, 'Early-Byzantine-(c.-–)': 109, 'Verism': 109, 'Lowbrow-Art': 108, 'Action-painting': 106, 'Performance-Art': 102, 'Neo-Rococo': 101, 'Post-classic-(c.-)': 99, 'Macedonian-Renaissance-(–)': 95, 'Neo-Concretism': 92, 'Analytical\\xa0Realism': 90, 'Classical': 89, 'Mozarabic': 85, 'Transautomatism': 82, 'Indian-Space-painting': 80, 'Ottoman-Period': 80, 'Stuckism': 79, 'Synthetism': 78, 'Coptic-art': 78, 'Moscow-school-of-icon-painting': 74, 'Automatic-Painting': 71, 'Mechanistic-Cubism': 70, 'Viking-art': 68, 'Junk-Art': 68, 'Maximalism': 62, 'Neo-Dada': 60, 'Neo-Suprematism': 59, 'Nanga-(Bunjinga)': 58, 'Queer-art': 57, 'Mosan-art': 57, 'Lettrism': 52, 'Cartographic-Art': 51, 'Timurid-Period': 51, 'New-Casualism': 49, 'Poster-Art-Realism': 49, 'Nihonga': 48, 'Komnenian-style-(-)': 48, 'Yamato-e': 47, 'Existential-Art': 39, 'Archaic': 39, 'Cyber-Art': 38, 'Gongbi': 35, 'Gothic': 34, 'Joseon-Dynasty': 33, 'Novgorod-school-of-icon-painting': 31, 'Renaissance': 30, 'Superflat': 30, 'Latin-Empire-of-Constantinople-(-)': 29, 'Yoruba': 28, 'Cubo-Expressionism': 26, 'Fiber-art': 26, 'Medieval-Art': 25, 'Excessivism': 24, 'Folk-art': 24, 'New-Ink-Painting': 23, 'Tubism': 22, 'Neo-Orthodoxism': 21, 'Galicia-Volyn-school': 21, 'Neo-Byzantine': 19, 'Mail-Art': 18, 'Kyiv-school-of-icon-painting': 17, 'Hyper-Mannerism-(Anachronism)': 17, 'rd-Intermediate-Period': 16, 'Synchromism': 16, 'Abbasid-Period': 16, 'Mughal': 16, 'Sots-Art': 16, 'Rayonism': 15, 'Kanō-school-style': 15, 'Art-Singulier': 14, 'Nas-Taliq': 14, 'Yaroslavl-school-of-icon-painting': 14, 'Ilkhanid': 14, 'Crusader-workshop': 13, 'Geometric': 13, 'Amarna': 12, 'Cretan-school-of-icon-painting': 12, 'Site-specific-art': 11, 'Ero-guro': 11, 'New-Medievialism': 11, 'Severe-Style': 10, 'Miserablism': 9, 'Middle-Kingdom': 9, 'Perceptism': 8, 'Pskov-school-of-icon-painting': 6, 'Vologda-school-of-icon-painting': 6, 'Spectralism': 5, 'Chernihiv-school-of-icon-painting': 4, 'Late-Period': 4, 'Ptolemaic': 4, 'Vladimir-school-of-icon-painting': 4, 'Sky-Art': 3, 'Macedonian-school-of-icon-painting': 2, 'Early-Dynastic': 2, 'Old-Kingdom': 1, 'Graffiti-Art': 1, 'Early-Christian': 1, 'nd-Intermediate-Period': 1, 'New-media-art': 1, 'Stroganov-school-of-icon-painting': 1}\n"
     ]
    }
   ],
   "source": [
    "num_data_each_style = csv_file['Style'].value_counts()\n",
    "print(dict(num_data_each_style))"
   ]
  },
  {
   "cell_type": "markdown",
   "id": "d4d21d1c-1b68-4a92-9bf9-ee410dcd54e3",
   "metadata": {},
   "source": [
    "# 특정 style row만 추출"
   ]
  },
  {
   "cell_type": "code",
   "execution_count": 8,
   "id": "36390248-6503-497b-9145-ffebba39c88e",
   "metadata": {},
   "outputs": [],
   "source": [
    "specific_style_name = 'Cubism' # 여기만 바꾸면 된다!\n",
    "specific_style_dataframe = csv_file[csv_file.Style==specific_style_name]"
   ]
  },
  {
   "cell_type": "code",
   "execution_count": 9,
   "id": "df55ed6d-c9a4-4baf-be6b-36029b45fc09",
   "metadata": {},
   "outputs": [
    {
     "data": {
      "text/html": [
       "<div>\n",
       "<style scoped>\n",
       "    .dataframe tbody tr th:only-of-type {\n",
       "        vertical-align: middle;\n",
       "    }\n",
       "\n",
       "    .dataframe tbody tr th {\n",
       "        vertical-align: top;\n",
       "    }\n",
       "\n",
       "    .dataframe thead th {\n",
       "        text-align: right;\n",
       "    }\n",
       "</style>\n",
       "<table border=\"1\" class=\"dataframe\">\n",
       "  <thead>\n",
       "    <tr style=\"text-align: right;\">\n",
       "      <th></th>\n",
       "      <th>Style</th>\n",
       "      <th>Artwork</th>\n",
       "      <th>Artist</th>\n",
       "      <th>Date</th>\n",
       "      <th>Link</th>\n",
       "    </tr>\n",
       "  </thead>\n",
       "  <tbody>\n",
       "    <tr>\n",
       "      <th>81056</th>\n",
       "      <td>Cubism</td>\n",
       "      <td>Forest</td>\n",
       "      <td>Paul Cezanne</td>\n",
       "      <td>1894</td>\n",
       "      <td>https://uploads3.wikiart.org/images/paul-cezan...</td>\n",
       "    </tr>\n",
       "    <tr>\n",
       "      <th>81057</th>\n",
       "      <td>Cubism</td>\n",
       "      <td>House and Trees</td>\n",
       "      <td>Paul Cezanne</td>\n",
       "      <td>1894</td>\n",
       "      <td>https://uploads3.wikiart.org/images/paul-cezan...</td>\n",
       "    </tr>\n",
       "    <tr>\n",
       "      <th>81058</th>\n",
       "      <td>Cubism</td>\n",
       "      <td>Maison Maria with a View of Chateau Noir</td>\n",
       "      <td>Paul Cezanne</td>\n",
       "      <td>1895</td>\n",
       "      <td>https://uploads1.wikiart.org/images/paul-cezan...</td>\n",
       "    </tr>\n",
       "    <tr>\n",
       "      <th>81059</th>\n",
       "      <td>Cubism</td>\n",
       "      <td>In the Woods</td>\n",
       "      <td>Paul Cezanne</td>\n",
       "      <td>1896</td>\n",
       "      <td>https://uploads0.wikiart.org/images/paul-cezan...</td>\n",
       "    </tr>\n",
       "    <tr>\n",
       "      <th>81060</th>\n",
       "      <td>Cubism</td>\n",
       "      <td>Bibemus. The Red Rock</td>\n",
       "      <td>Paul Cezanne</td>\n",
       "      <td>1897</td>\n",
       "      <td>https://uploads8.wikiart.org/images/paul-cezan...</td>\n",
       "    </tr>\n",
       "  </tbody>\n",
       "</table>\n",
       "</div>"
      ],
      "text/plain": [
       "        Style                                   Artwork        Artist  Date  \\\n",
       "81056  Cubism                                    Forest  Paul Cezanne  1894   \n",
       "81057  Cubism                           House and Trees  Paul Cezanne  1894   \n",
       "81058  Cubism  Maison Maria with a View of Chateau Noir  Paul Cezanne  1895   \n",
       "81059  Cubism                              In the Woods  Paul Cezanne  1896   \n",
       "81060  Cubism                     Bibemus. The Red Rock  Paul Cezanne  1897   \n",
       "\n",
       "                                                    Link  \n",
       "81056  https://uploads3.wikiart.org/images/paul-cezan...  \n",
       "81057  https://uploads3.wikiart.org/images/paul-cezan...  \n",
       "81058  https://uploads1.wikiart.org/images/paul-cezan...  \n",
       "81059  https://uploads0.wikiart.org/images/paul-cezan...  \n",
       "81060  https://uploads8.wikiart.org/images/paul-cezan...  "
      ]
     },
     "execution_count": 9,
     "metadata": {},
     "output_type": "execute_result"
    }
   ],
   "source": [
    "specific_style_dataframe.head()"
   ]
  },
  {
   "cell_type": "code",
   "execution_count": 10,
   "id": "2eb5cbb1-ad31-4b70-8b9a-ad3cb3a052cb",
   "metadata": {},
   "outputs": [
    {
     "data": {
      "text/plain": [
       "(3403, 5)"
      ]
     },
     "execution_count": 10,
     "metadata": {},
     "output_type": "execute_result"
    }
   ],
   "source": [
    "specific_style_dataframe.shape"
   ]
  },
  {
   "cell_type": "markdown",
   "id": "f0e887d9-4eb4-4480-b421-05fcdc3c06d6",
   "metadata": {},
   "source": [
    "# image download"
   ]
  },
  {
   "cell_type": "code",
   "execution_count": 11,
   "id": "3225dc47-d893-4544-8db4-b69febc2e4ea",
   "metadata": {},
   "outputs": [],
   "source": [
    "%mkdir $specific_style_name"
   ]
  },
  {
   "cell_type": "code",
   "execution_count": null,
   "id": "f10d8c70-6eba-4077-8c9b-7f19120670af",
   "metadata": {
    "scrolled": true
   },
   "outputs": [
    {
     "name": "stderr",
     "output_type": "stream",
     "text": [
      "  % Total    % Received % Xferd  Average Speed   Time    Time     Time  Current\n",
      "                                 Dload  Upload   Total   Spent    Left  Speed\n",
      "100  270k  100  270k    0     0   152k      0  0:00:01  0:00:01 --:--:--  152k\n",
      "  % Total    % Received % Xferd  Average Speed   Time    Time     Time  Current\n",
      "                                 Dload  Upload   Total   Spent    Left  Speed\n",
      "100  223k  100  223k    0     0   107k      0  0:00:02  0:00:02 --:--:--  107k\n",
      "  % Total    % Received % Xferd  Average Speed   Time    Time     Time  Current\n",
      "                                 Dload  Upload   Total   Spent    Left  Speed\n",
      "100  567k  100  567k    0     0   307k      0  0:00:01  0:00:01 --:--:--  307k\n",
      "  % Total    % Received % Xferd  Average Speed   Time    Time     Time  Current\n",
      "                                 Dload  Upload   Total   Spent    Left  Speed\n",
      "100  792k  100  792k    0     0   273k      0  0:00:02  0:00:02 --:--:--  273k\n",
      "  % Total    % Received % Xferd  Average Speed   Time    Time     Time  Current\n",
      "                                 Dload  Upload   Total   Spent    Left  Speed\n",
      "100  230k  100  230k    0     0   152k      0  0:00:01  0:00:01 --:--:--  152k\n",
      "  % Total    % Received % Xferd  Average Speed   Time    Time     Time  Current\n",
      "                                 Dload  Upload   Total   Spent    Left  Speed\n",
      "100  487k  100  487k    0     0   194k      0  0:00:02  0:00:02 --:--:--  194k\n",
      "  % Total    % Received % Xferd  Average Speed   Time    Time     Time  Current\n",
      "                                 Dload  Upload   Total   Spent    Left  Speed\n",
      "100  276k  100  276k    0     0   107k      0  0:00:02  0:00:02 --:--:--  107k\n",
      "  % Total    % Received % Xferd  Average Speed   Time    Time     Time  Current\n",
      "                                 Dload  Upload   Total   Spent    Left  Speed\n",
      "100  149k  100  149k    0     0  94445      0  0:00:01  0:00:01 --:--:-- 94445\n",
      "  % Total    % Received % Xferd  Average Speed   Time    Time     Time  Current\n",
      "                                 Dload  Upload   Total   Spent    Left  Speed\n",
      "100  208k  100  208k    0     0   125k      0  0:00:01  0:00:01 --:--:--  125k\n",
      "  % Total    % Received % Xferd  Average Speed   Time    Time     Time  Current\n",
      "                                 Dload  Upload   Total   Spent    Left  Speed\n",
      "100  288k  100  288k    0     0   161k      0  0:00:01  0:00:01 --:--:--  161k\n",
      "  % Total    % Received % Xferd  Average Speed   Time    Time     Time  Current\n",
      "                                 Dload  Upload   Total   Spent    Left  Speed\n",
      "100  458k  100  458k    0     0   176k      0  0:00:02  0:00:02 --:--:--  176k\n",
      "  % Total    % Received % Xferd  Average Speed   Time    Time     Time  Current\n",
      "                                 Dload  Upload   Total   Spent    Left  Speed\n",
      "100  565k  100  565k    0     0   203k      0  0:00:02  0:00:02 --:--:--  203k\n",
      "  % Total    % Received % Xferd  Average Speed   Time    Time     Time  Current\n",
      "                                 Dload  Upload   Total   Spent    Left  Speed\n",
      "100  287k  100  287k    0     0   175k      0  0:00:01  0:00:01 --:--:--  175k\n",
      "  % Total    % Received % Xferd  Average Speed   Time    Time     Time  Current\n",
      "                                 Dload  Upload   Total   Spent    Left  Speed\n",
      "100  300k  100  300k    0     0   135k      0  0:00:02  0:00:02 --:--:--  135k\n",
      "  % Total    % Received % Xferd  Average Speed   Time    Time     Time  Current\n",
      "                                 Dload  Upload   Total   Spent    Left  Speed\n",
      "100  240k  100  240k    0     0   147k      0  0:00:01  0:00:01 --:--:--  147k\n",
      "  % Total    % Received % Xferd  Average Speed   Time    Time     Time  Current\n",
      "                                 Dload  Upload   Total   Spent    Left  Speed\n",
      "100  183k  100  183k    0     0   119k      0  0:00:01  0:00:01 --:--:--  119k\n",
      "  % Total    % Received % Xferd  Average Speed   Time    Time     Time  Current\n",
      "                                 Dload  Upload   Total   Spent    Left  Speed\n",
      "100  152k  100  152k    0     0   106k      0  0:00:01  0:00:01 --:--:--  106k\n",
      "  % Total    % Received % Xferd  Average Speed   Time    Time     Time  Current\n",
      "                                 Dload  Upload   Total   Spent    Left  Speed\n",
      "100  130k  100  130k    0     0  66336      0  0:00:02  0:00:02 --:--:-- 66336\n",
      "  % Total    % Received % Xferd  Average Speed   Time    Time     Time  Current\n",
      "                                 Dload  Upload   Total   Spent    Left  Speed\n",
      "100  156k  100  156k    0     0  80778      0  0:00:01  0:00:01 --:--:-- 80737\n",
      "  % Total    % Received % Xferd  Average Speed   Time    Time     Time  Current\n",
      "                                 Dload  Upload   Total   Spent    Left  Speed\n",
      "100 59565  100 59565    0     0  44319      0  0:00:01  0:00:01 --:--:-- 44319\n",
      "  % Total    % Received % Xferd  Average Speed   Time    Time     Time  Current\n",
      "                                 Dload  Upload   Total   Spent    Left  Speed\n",
      "100  164k  100  164k    0     0   108k      0  0:00:01  0:00:01 --:--:--  108k\n",
      "  % Total    % Received % Xferd  Average Speed   Time    Time     Time  Current\n",
      "                                 Dload  Upload   Total   Spent    Left  Speed\n",
      "100  192k  100  192k    0     0  96422      0  0:00:02  0:00:02 --:--:-- 96422\n",
      "  % Total    % Received % Xferd  Average Speed   Time    Time     Time  Current\n",
      "                                 Dload  Upload   Total   Spent    Left  Speed\n",
      "100  199k  100  199k    0     0  89042      0  0:00:02  0:00:02 --:--:-- 89042\n",
      "  % Total    % Received % Xferd  Average Speed   Time    Time     Time  Current\n",
      "                                 Dload  Upload   Total   Spent    Left  Speed\n",
      "100  177k  100  177k    0     0  86149      0  0:00:02  0:00:02 --:--:-- 86149\n",
      "  % Total    % Received % Xferd  Average Speed   Time    Time     Time  Current\n",
      "                                 Dload  Upload   Total   Spent    Left  Speed\n",
      "100  235k  100  235k    0     0   105k      0  0:00:02  0:00:02 --:--:--  105k\n",
      "  % Total    % Received % Xferd  Average Speed   Time    Time     Time  Current\n",
      "                                 Dload  Upload   Total   Spent    Left  Speed\n",
      "100 44060  100 44060    0     0  37056      0  0:00:01  0:00:01 --:--:-- 37056\n",
      "  % Total    % Received % Xferd  Average Speed   Time    Time     Time  Current\n",
      "                                 Dload  Upload   Total   Spent    Left  Speed\n",
      "100  103k  100  103k    0     0  81684      0  0:00:01  0:00:01 --:--:-- 81684\n",
      "  % Total    % Received % Xferd  Average Speed   Time    Time     Time  Current\n",
      "                                 Dload  Upload   Total   Spent    Left  Speed\n",
      "100 44230  100 44230    0     0  39703      0  0:00:01  0:00:01 --:--:-- 39703\n",
      "  % Total    % Received % Xferd  Average Speed   Time    Time     Time  Current\n",
      "                                 Dload  Upload   Total   Spent    Left  Speed\n",
      "100  281k  100  281k    0     0   119k      0  0:00:02  0:00:02 --:--:--  119k\n",
      "  % Total    % Received % Xferd  Average Speed   Time    Time     Time  Current\n",
      "                                 Dload  Upload   Total   Spent    Left  Speed\n",
      "100  656k  100  656k    0     0   285k      0  0:00:02  0:00:02 --:--:--  285k\n",
      "  % Total    % Received % Xferd  Average Speed   Time    Time     Time  Current\n",
      "                                 Dload  Upload   Total   Spent    Left  Speed\n",
      "100  217k  100  217k    0     0   124k      0  0:00:01  0:00:01 --:--:--  124k\n",
      "  % Total    % Received % Xferd  Average Speed   Time    Time     Time  Current\n",
      "                                 Dload  Upload   Total   Spent    Left  Speed\n",
      "100  347k  100  347k    0     0   171k      0  0:00:02  0:00:02 --:--:--  171k\n",
      "  % Total    % Received % Xferd  Average Speed   Time    Time     Time  Current\n",
      "                                 Dload  Upload   Total   Spent    Left  Speed\n",
      "100  910k  100  910k    0     0   449k      0  0:00:02  0:00:02 --:--:--  449k\n",
      "  % Total    % Received % Xferd  Average Speed   Time    Time     Time  Current\n",
      "                                 Dload  Upload   Total   Spent    Left  Speed\n",
      "100  222k  100  222k    0     0   110k      0  0:00:02  0:00:02 --:--:--  110k\n",
      "  % Total    % Received % Xferd  Average Speed   Time    Time     Time  Current\n",
      "                                 Dload  Upload   Total   Spent    Left  Speed\n"
     ]
    },
    {
     "name": "stderr",
     "output_type": "stream",
     "text": [
      "100 38951  100 38951    0     0  27276      0  0:00:01  0:00:01 --:--:-- 27276\n",
      "  % Total    % Received % Xferd  Average Speed   Time    Time     Time  Current\n",
      "                                 Dload  Upload   Total   Spent    Left  Speed\n",
      "100  266k  100  266k    0     0   121k      0  0:00:02  0:00:02 --:--:--  121k\n",
      "  % Total    % Received % Xferd  Average Speed   Time    Time     Time  Current\n",
      "                                 Dload  Upload   Total   Spent    Left  Speed\n",
      "100  128k  100  128k    0     0  63640      0  0:00:02  0:00:02 --:--:-- 63640\n",
      "  % Total    % Received % Xferd  Average Speed   Time    Time     Time  Current\n",
      "                                 Dload  Upload   Total   Spent    Left  Speed\n",
      "100  508k  100  508k    0     0   293k      0  0:00:01  0:00:01 --:--:--  293k\n",
      "  % Total    % Received % Xferd  Average Speed   Time    Time     Time  Current\n",
      "                                 Dload  Upload   Total   Spent    Left  Speed\n",
      "100  651k  100  651k    0     0   236k      0  0:00:02  0:00:02 --:--:--  236k\n",
      "  % Total    % Received % Xferd  Average Speed   Time    Time     Time  Current\n",
      "                                 Dload  Upload   Total   Spent    Left  Speed\n",
      "100  105k  100  105k    0     0  83697      0  0:00:01  0:00:01 --:--:-- 83697\n",
      "  % Total    % Received % Xferd  Average Speed   Time    Time     Time  Current\n",
      "                                 Dload  Upload   Total   Spent    Left  Speed\n",
      "100  816k  100  816k    0     0   437k      0  0:00:01  0:00:01 --:--:--  437k\n",
      "  % Total    % Received % Xferd  Average Speed   Time    Time     Time  Current\n",
      "                                 Dload  Upload   Total   Spent    Left  Speed\n",
      "100  209k  100  209k    0     0  92697      0  0:00:02  0:00:02 --:--:-- 92697\n",
      "  % Total    % Received % Xferd  Average Speed   Time    Time     Time  Current\n",
      "                                 Dload  Upload   Total   Spent    Left  Speed\n",
      "100  212k  100  212k    0     0  94283      0  0:00:02  0:00:02 --:--:-- 94242\n",
      "  % Total    % Received % Xferd  Average Speed   Time    Time     Time  Current\n",
      "                                 Dload  Upload   Total   Spent    Left  Speed\n",
      "100  152k  100  152k    0     0  79893      0  0:00:01  0:00:01 --:--:-- 79852\n",
      "  % Total    % Received % Xferd  Average Speed   Time    Time     Time  Current\n",
      "                                 Dload  Upload   Total   Spent    Left  Speed\n",
      "100  204k  100  204k    0     0  91329      0  0:00:02  0:00:02 --:--:-- 91369\n",
      "  % Total    % Received % Xferd  Average Speed   Time    Time     Time  Current\n",
      "                                 Dload  Upload   Total   Spent    Left  Speed\n",
      "100  470k  100  470k    0     0   181k      0  0:00:02  0:00:02 --:--:--  181k\n",
      "  % Total    % Received % Xferd  Average Speed   Time    Time     Time  Current\n",
      "                                 Dload  Upload   Total   Spent    Left  Speed\n",
      "  0     0    0     0    0     0      0      0 --:--:-- --:--:-- --:--:--     0"
     ]
    }
   ],
   "source": [
    "import os \n",
    "\n",
    "for index, url in enumerate(specific_style_dataframe[\"Link\"]):\n",
    "    os.system(\"curl \" + url + f\" > ./{specific_style_name}/{specific_style_name}_{index}.png\")"
   ]
  },
  {
   "cell_type": "code",
   "execution_count": null,
   "id": "c2dea68c",
   "metadata": {},
   "outputs": [],
   "source": []
  }
 ],
 "metadata": {
  "kernelspec": {
   "display_name": "pytorch",
   "language": "python",
   "name": "pytorch"
  },
  "language_info": {
   "codemirror_mode": {
    "name": "ipython",
    "version": 3
   },
   "file_extension": ".py",
   "mimetype": "text/x-python",
   "name": "python",
   "nbconvert_exporter": "python",
   "pygments_lexer": "ipython3",
   "version": "3.8.1"
  }
 },
 "nbformat": 4,
 "nbformat_minor": 5
}
